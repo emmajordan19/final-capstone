{
 "cells": [
  {
   "cell_type": "code",
   "execution_count": null,
   "id": "ed7c63ed",
   "metadata": {},
   "outputs": [],
   "source": [
    "import pandas as pd\n",
    "import numpy as np\n",
    "import matplotlib.pyplot as plt"
   ]
  },
  {
   "cell_type": "markdown",
   "id": "12e3b46a",
   "metadata": {},
   "source": [
    "### Bring in National Data"
   ]
  },
  {
   "cell_type": "code",
   "execution_count": null,
   "id": "1abd0640",
   "metadata": {},
   "outputs": [],
   "source": [
    "nat00 = pd.read_excel(r\"C:\\Users\\emmaj\\Documents\\NSS\\Capstone\\final-capstone\\data\\oes00nat\\national_2000_dl.xls\", sheet_name='Sheet1', header=38)\n",
    "nat00"
   ]
  },
  {
   "cell_type": "code",
   "execution_count": null,
   "id": "5a6d1080",
   "metadata": {
    "scrolled": true
   },
   "outputs": [],
   "source": [
    "nat01 = pd.read_excel(r\"C:\\Users\\emmaj\\Documents\\NSS\\Capstone\\final-capstone\\data\\oes01nat\\national_2001_dl.xls\")\n",
    "nat01.head(2)"
   ]
  },
  {
   "cell_type": "code",
   "execution_count": null,
   "id": "e255386b",
   "metadata": {},
   "outputs": [],
   "source": [
    "nat02 = pd.read_excel(r\"C:\\Users\\emmaj\\Documents\\NSS\\Capstone\\final-capstone\\data\\oes02nat\\national_2002_dl.xls\")\n",
    "nat02.head(2)"
   ]
  },
  {
   "cell_type": "code",
   "execution_count": null,
   "id": "842909fb",
   "metadata": {
    "scrolled": true
   },
   "outputs": [],
   "source": [
    "nat03 = pd.read_excel(r\"C:\\Users\\emmaj\\Documents\\NSS\\Capstone\\final-capstone\\data\\oesm03nat\\national_may2003_dl.xls\")\n",
    "nat03.head(2)"
   ]
  },
  {
   "cell_type": "code",
   "execution_count": null,
   "id": "97ff5aba",
   "metadata": {},
   "outputs": [],
   "source": [
    "nat04 = pd.read_excel(r\"C:\\Users\\emmaj\\Documents\\NSS\\Capstone\\final-capstone\\data\\oesm04nat\\national_may2004_dl.xls\")\n",
    "nat04.head(2)"
   ]
  },
  {
   "cell_type": "code",
   "execution_count": null,
   "id": "58ba7b46",
   "metadata": {
    "scrolled": true
   },
   "outputs": [],
   "source": [
    "nat05 = pd.read_excel(r\"C:\\Users\\emmaj\\Documents\\NSS\\Capstone\\final-capstone\\data\\oesm05nat\\national_may2005_dl.xls\")\n",
    "nat05.head(2)"
   ]
  },
  {
   "cell_type": "code",
   "execution_count": null,
   "id": "fe98000f",
   "metadata": {},
   "outputs": [],
   "source": [
    "nat06 = pd.read_excel(r\"C:\\Users\\emmaj\\Documents\\NSS\\Capstone\\final-capstone\\data\\oesm06nat\\national_may2006_dl.xls\")\n",
    "nat06.head(2)"
   ]
  },
  {
   "cell_type": "code",
   "execution_count": null,
   "id": "022561fc",
   "metadata": {},
   "outputs": [],
   "source": [
    "nat07 = pd.read_excel(r\"C:\\Users\\emmaj\\Documents\\NSS\\Capstone\\final-capstone\\data\\oesm07nat\\national_May2007_dl.xls\")\n",
    "nat07.head(2)"
   ]
  },
  {
   "cell_type": "code",
   "execution_count": null,
   "id": "1f34b168",
   "metadata": {
    "scrolled": true
   },
   "outputs": [],
   "source": [
    "nat08 = pd.read_excel(r\"C:\\Users\\emmaj\\Documents\\NSS\\Capstone\\final-capstone\\data\\oesm08nat\\national__M2008_dl.xls\")\n",
    "nat08.head(2)"
   ]
  },
  {
   "cell_type": "code",
   "execution_count": null,
   "id": "553c8709",
   "metadata": {
    "scrolled": false
   },
   "outputs": [],
   "source": [
    "nat09 = pd.read_excel(r\"C:\\Users\\emmaj\\Documents\\NSS\\Capstone\\final-capstone\\data\\oesm09nat\\national_dl.xls\")\n",
    "nat09.head(2)"
   ]
  },
  {
   "cell_type": "code",
   "execution_count": null,
   "id": "8a900eea",
   "metadata": {},
   "outputs": [],
   "source": [
    "nat10 = pd.read_excel(r\"C:\\Users\\emmaj\\Documents\\NSS\\Capstone\\final-capstone\\data\\oesm10nat\\national_M2010_dl.xls\")\n",
    "nat10.head(2)"
   ]
  },
  {
   "cell_type": "code",
   "execution_count": null,
   "id": "4b0a7ac0",
   "metadata": {},
   "outputs": [],
   "source": [
    "nat11 = pd.read_excel(r\"C:\\Users\\emmaj\\Documents\\NSS\\Capstone\\final-capstone\\data\\oesm11nat\\national_M2011_dl.xls\")\n",
    "nat11.head(2)"
   ]
  },
  {
   "cell_type": "code",
   "execution_count": null,
   "id": "c4752dc4",
   "metadata": {},
   "outputs": [],
   "source": [
    "nat12 = pd.read_excel(r\"C:\\Users\\emmaj\\Documents\\NSS\\Capstone\\final-capstone\\data\\oesm12nat\\oesm12nat\\national_M2012_dl.xls\")\n",
    "nat12.head(2)"
   ]
  },
  {
   "cell_type": "code",
   "execution_count": null,
   "id": "1db174e4",
   "metadata": {},
   "outputs": [],
   "source": [
    "nat13 = pd.read_excel(r\"C:\\Users\\emmaj\\Documents\\NSS\\Capstone\\final-capstone\\data\\oesm13nat\\oesm13nat\\national_M2013_dl.xls\")\n",
    "nat13.head(2)"
   ]
  },
  {
   "cell_type": "code",
   "execution_count": null,
   "id": "38ccb109",
   "metadata": {},
   "outputs": [],
   "source": [
    "nat14 = pd.read_excel(r\"C:\\Users\\emmaj\\Documents\\NSS\\Capstone\\final-capstone\\data\\oesm14nat\\oesm14nat\\national_M2014_dl.xlsx\")\n",
    "nat14.head(2)"
   ]
  },
  {
   "cell_type": "code",
   "execution_count": null,
   "id": "76ba95f6",
   "metadata": {},
   "outputs": [],
   "source": [
    "nat15 = pd.read_excel(r\"C:\\Users\\emmaj\\Documents\\NSS\\Capstone\\final-capstone\\data\\oesm15nat\\oesm15nat\\national_M2015_dl.xlsx\")\n",
    "nat15.head(2)"
   ]
  },
  {
   "cell_type": "code",
   "execution_count": null,
   "id": "ed8e7b0d",
   "metadata": {},
   "outputs": [],
   "source": [
    "nat16 = pd.read_excel(r\"C:\\Users\\emmaj\\Documents\\NSS\\Capstone\\final-capstone\\data\\oesm16nat\\oesm16nat\\national_M2016_dl.xlsx\")\n",
    "nat16.head(2)"
   ]
  },
  {
   "cell_type": "code",
   "execution_count": null,
   "id": "37fb85b1",
   "metadata": {},
   "outputs": [],
   "source": [
    "nat17 = pd.read_excel(r\"C:\\Users\\emmaj\\Documents\\NSS\\Capstone\\final-capstone\\data\\oesm17nat\\oesm17nat\\national_M2017_dl.xlsx\")\n",
    "nat17.head(2)"
   ]
  },
  {
   "cell_type": "code",
   "execution_count": null,
   "id": "5572be91",
   "metadata": {},
   "outputs": [],
   "source": [
    "nat18 = pd.read_excel(r\"C:\\Users\\emmaj\\Documents\\NSS\\Capstone\\final-capstone\\data\\oesm18nat\\oesm18nat\\national_M2018_dl.xlsx\")\n",
    "nat18.head(2)"
   ]
  },
  {
   "cell_type": "code",
   "execution_count": null,
   "id": "6b5dd7bf",
   "metadata": {},
   "outputs": [],
   "source": [
    "nat19 = pd.read_excel(r\"C:\\Users\\emmaj\\Documents\\NSS\\Capstone\\final-capstone\\data\\oesm19nat\\oesm19nat\\national_M2019_dl.xlsx\")\n",
    "nat19.head(2)"
   ]
  },
  {
   "cell_type": "code",
   "execution_count": null,
   "id": "1e9acbeb",
   "metadata": {},
   "outputs": [],
   "source": [
    "nat20 = pd.read_excel(r\"C:\\Users\\emmaj\\Documents\\NSS\\Capstone\\final-capstone\\data\\oesm20nat\\oesm20nat\\national_M2020_dl.xlsx\")\n",
    "nat20.head(2)"
   ]
  },
  {
   "cell_type": "code",
   "execution_count": null,
   "id": "fc948531",
   "metadata": {},
   "outputs": [],
   "source": [
    "nat21 = pd.read_excel(r\"C:\\Users\\emmaj\\Documents\\NSS\\Capstone\\final-capstone\\data\\oesm21nat\\national_M2021_dl.xlsx\")\n",
    "nat21.head(2)"
   ]
  },
  {
   "cell_type": "code",
   "execution_count": null,
   "id": "4860dba2",
   "metadata": {},
   "outputs": [],
   "source": [
    "nat21 =  nat21.drop(['AREA_TITLE', 'AREA_TYPE', 'PRIM_STATE', 'NAICS', 'I_GROUP', 'AREA', 'NAICS_TITLE'], axis = 1)"
   ]
  },
  {
   "cell_type": "code",
   "execution_count": null,
   "id": "f2f5c214",
   "metadata": {},
   "outputs": [],
   "source": [
    "nat20 = nat20.drop(['AREA_TITLE', 'AREA_TYPE', 'PRIM_STATE', 'NAICS', 'I_GROUP', 'AREA', 'NAICS_TITLE'], axis = 1)"
   ]
  },
  {
   "cell_type": "code",
   "execution_count": null,
   "id": "a41fec0b",
   "metadata": {},
   "outputs": [],
   "source": [
    "nat19 = nat19.drop(['area_title', 'area_type', 'naics', 'i_group', 'area', 'naics_title'], axis = 1)"
   ]
  },
  {
   "cell_type": "markdown",
   "id": "6268c320",
   "metadata": {},
   "source": [
    "### Change columns to lowercase "
   ]
  },
  {
   "cell_type": "code",
   "execution_count": null,
   "id": "6fa89f9c",
   "metadata": {},
   "outputs": [],
   "source": [
    "nat00.columns = map(str.lower, nat00.columns)\n",
    "nat01.columns = map(str.lower, nat01.columns)\n",
    "nat02.columns = map(str.lower, nat02.columns)\n",
    "nat03.columns = map(str.lower, nat03.columns)\n",
    "nat04.columns = map(str.lower, nat04.columns)\n",
    "nat05.columns = map(str.lower, nat05.columns)\n",
    "nat06.columns = map(str.lower, nat06.columns)\n",
    "nat07.columns = map(str.lower, nat07.columns)\n",
    "nat08.columns = map(str.lower, nat08.columns)\n",
    "nat09.columns = map(str.lower, nat09.columns)\n",
    "nat10.columns = map(str.lower, nat10.columns)\n",
    "nat11.columns = map(str.lower, nat11.columns)\n",
    "nat12.columns = map(str.lower, nat12.columns)\n",
    "nat13.columns = map(str.lower, nat13.columns)\n",
    "nat14.columns = map(str.lower, nat14.columns)\n",
    "nat15.columns = map(str.lower, nat15.columns)\n",
    "nat16.columns = map(str.lower, nat16.columns)\n",
    "nat17.columns = map(str.lower, nat17.columns)\n",
    "nat18.columns = map(str.lower, nat18.columns)\n",
    "nat19.columns = map(str.lower, nat19.columns)\n",
    "nat20.columns = map(str.lower, nat20.columns)\n",
    "nat21.columns = map(str.lower, nat21.columns)\n"
   ]
  },
  {
   "cell_type": "markdown",
   "id": "a6419882",
   "metadata": {},
   "source": [
    "### Add a year column to National Data "
   ]
  },
  {
   "cell_type": "code",
   "execution_count": null,
   "id": "1e462aa7",
   "metadata": {},
   "outputs": [],
   "source": [
    "nat02['year'] = '2002'\n",
    "nat03['year'] = '2003'\n",
    "nat04['year'] = '2004'\n",
    "nat05['year'] = '2005'\n",
    "nat06['year'] = '2006'\n",
    "nat07['year'] = '2007'\n",
    "nat08['year'] = '2008'\n",
    "nat09['year'] = '2009'\n",
    "nat10['year'] = '2010'\n",
    "nat11['year'] = '2011'\n",
    "nat12['year'] = '2012'\n",
    "nat13['year'] = '2013'\n",
    "nat14['year'] = '2014'\n",
    "nat15['year'] = '2015'\n",
    "nat16['year'] = '2016'\n",
    "nat17['year'] = '2017'\n",
    "nat18['year'] = '2018'\n",
    "nat19['year'] = '2019'\n",
    "nat20['year'] = '2020'\n",
    "nat21['year'] = '2021'"
   ]
  },
  {
   "cell_type": "markdown",
   "id": "2391ac86",
   "metadata": {},
   "source": [
    "### Drop excess columns"
   ]
  },
  {
   "cell_type": "code",
   "execution_count": null,
   "id": "9aabdb35",
   "metadata": {},
   "outputs": [],
   "source": [
    "nat00 =  nat00.drop(['emp_prse', 'mean_prse', 'annual'], axis = 1)\n",
    "nat01 =  nat01.drop(['emp_prse', 'mean_prse', 'annual'], axis = 1)\n",
    "nat02 =  nat02.drop(['emp_prse', 'mean_prse', 'annual'], axis = 1)\n",
    "nat03 =  nat03.drop(['emp_prse', 'mean_prse', 'annual'], axis = 1)\n",
    "nat04 =  nat04.drop(['emp_prse', 'mean_prse', 'annual', 'hourly'], axis = 1)\n",
    "nat05 =  nat05.drop(['emp_prse', 'mean_prse', 'annual', 'hourly'], axis = 1)\n",
    "nat06 =  nat06.drop(['emp_prse', 'mean_prse', 'annual', 'hourly'], axis = 1)\n",
    "nat07 =  nat07.drop(['emp_prse', 'mean_prse', 'annual', 'hourly'], axis = 1)\n",
    "nat08 =  nat08.drop(['emp_prse', 'mean_prse', 'annual', 'hourly'], axis = 1)\n",
    "nat09 =  nat09.drop(['emp_prse', 'mean_prse', 'annual', 'hourly'], axis = 1)\n",
    "nat10 =  nat10.drop(['emp_prse', 'mean_prse', 'annual', 'hourly'], axis = 1)\n",
    "nat11 =  nat11.drop(['emp_prse', 'mean_prse', 'annual', 'hourly'], axis = 1)\n",
    "nat12 =  nat12.drop(['emp_prse', 'mean_prse', 'annual', 'hourly'], axis = 1)\n",
    "nat13 =  nat13.drop(['emp_prse', 'mean_prse', 'annual', 'hourly'], axis = 1)\n",
    "nat14 =  nat14.drop(['emp_prse', 'mean_prse', 'annual', 'hourly'], axis = 1)\n",
    "nat15 =  nat15.drop(['emp_prse', 'mean_prse', 'annual', 'hourly'], axis = 1)\n",
    "nat16 =  nat16.drop(['emp_prse', 'mean_prse', 'annual', 'hourly'], axis = 1)\n",
    "nat17 =  nat17.drop(['emp_prse', 'mean_prse', 'annual', 'hourly'], axis = 1)\n",
    "nat18 =  nat18.drop(['emp_prse', 'mean_prse', 'annual', 'hourly'], axis = 1)\n",
    "nat19 =  nat19.drop(['emp_prse', 'mean_prse', 'annual', 'hourly'], axis = 1)\n",
    "nat20 =  nat20.drop(['emp_prse', 'mean_prse', 'annual', 'hourly'], axis = 1)\n",
    "nat21 =  nat21.drop(['emp_prse', 'mean_prse', 'annual', 'hourly'], axis = 1)\n"
   ]
  },
  {
   "cell_type": "markdown",
   "id": "f8f4db26",
   "metadata": {},
   "source": [
    "### Loop through inconsistencies of column names"
   ]
  },
  {
   "cell_type": "code",
   "execution_count": null,
   "id": "1ec3f69d",
   "metadata": {},
   "outputs": [],
   "source": [
    "nat00 = nat00[['occ_code', 'occ_titl', 'group', 'tot_emp', 'h_mean', 'h_median', 'a_median', 'year']]\n",
    "nat01 = nat01[['occ_code', 'occ_title', 'group', 'tot_emp', 'h_mean', 'h_median', 'a_median', 'year']]\n",
    "nat02 =nat02[['occ_code', 'occ_titl', 'group', 'tot_emp', 'h_mean', 'h_median', 'a_median', 'year']]\n",
    "nat03 =nat03[['occ_code', 'occ_title', 'group', 'tot_emp', 'h_mean', 'h_median', 'a_median', 'year']]\n",
    "nat04 = nat04[['occ_code', 'occ_title', 'group', 'tot_emp', 'h_mean', 'h_median', 'a_median', 'year']]\n",
    "nat05 =nat05[['occ_code', 'occ_title', 'group', 'tot_emp', 'h_mean', 'h_median', 'a_median', 'year']]\n",
    "nat06 =nat06[['occ_code', 'occ_title', 'group', 'tot_emp', 'h_mean', 'h_median', 'a_median', 'year']]\n",
    "nat07 =nat07[['occ_code', 'occ_title', 'group', 'tot_emp', 'h_mean', 'h_median', 'a_median', 'year']]\n",
    "nat08 =nat08[['occ_code', 'occ_title', 'group', 'tot_emp', 'h_mean', 'h_median', 'a_median', 'year']]\n",
    "nat09 =nat09[['occ_code', 'occ_title', 'group', 'tot_emp', 'h_mean', 'h_median', 'a_median', 'year']]\n",
    "nat10 = nat10[['occ_code', 'occ_title', 'group', 'tot_emp', 'h_mean', 'h_median', 'a_median', 'year']]\n",
    "nat11 =nat11[['occ_code', 'occ_title', 'group', 'tot_emp', 'h_mean', 'h_median', 'a_median', 'year']]\n",
    "nat12 =nat12[['occ_code', 'occ_title', 'occ_group', 'tot_emp', 'h_mean', 'h_median', 'a_median', 'year']]\n",
    "nat13 = nat13[['occ_code', 'occ_title', 'occ_group', 'tot_emp', 'h_mean', 'h_median', 'a_median', 'year']]\n",
    "nat14 =nat14[['occ_code', 'occ_title', 'occ_group', 'tot_emp', 'h_mean', 'h_median', 'a_median', 'year']]\n",
    "nat15 =nat15[['occ_code', 'occ_title', 'occ_group', 'tot_emp', 'h_mean', 'h_median', 'a_median', 'year']]\n",
    "nat16 = nat16[['occ_code', 'occ_title', 'occ_group', 'tot_emp', 'h_mean', 'h_median', 'a_median', 'year']]\n",
    "nat17 = nat17[['occ_code', 'occ_title', 'occ_group', 'tot_emp', 'h_mean', 'h_median', 'a_median', 'year']]\n",
    "nat18 = nat18[['occ_code', 'occ_title', 'occ_group', 'tot_emp', 'h_mean', 'h_median', 'a_median', 'year']]\n",
    "nat19 = nat19[['occ_code', 'occ_title', 'o_group', 'tot_emp', 'h_mean', 'h_median', 'a_median', 'year']]\n",
    "nat20 = nat20[['occ_code', 'occ_title', 'o_group', 'tot_emp', 'h_mean', 'h_median', 'a_median', 'year']]\n",
    "nat21 = nat21[['occ_code', 'occ_title', 'o_group', 'tot_emp', 'h_mean', 'h_median', 'a_median', 'year']]\n",
    "\n",
    "df_list = [nat00, nat01, nat02, nat03, nat04, nat05, nat06, nat07, nat08, nat09,  nat10, nat11, nat12, nat13, nat14, nat15, nat16, nat17, nat18, nat19, nat20, nat21]\n",
    "\n",
    "for i in df_list:\n",
    "    for j in i:\n",
    "        if j == 'occ_titl':\n",
    "            i.rename(columns={j:'occ_title'}, inplace=True)\n",
    "        if j == 'group':\n",
    "            i.rename(columns={j:'occ_group'}, inplace=True)\n",
    "        if j == 'o_group':\n",
    "            i.rename(columns={j:'occ_group'}, inplace=True)\n"
   ]
  },
  {
   "cell_type": "markdown",
   "id": "76fd4ba1",
   "metadata": {},
   "source": [
    "\n"
   ]
  },
  {
   "cell_type": "markdown",
   "id": "906ad109",
   "metadata": {},
   "source": [
    "### Built two datasets (before/after 2012) to clean up code and occupation names over the year"
   ]
  },
  {
   "cell_type": "code",
   "execution_count": null,
   "id": "4131e0be",
   "metadata": {},
   "outputs": [],
   "source": [
    "bf12 = [nat00, nat01, nat02, nat03, nat04, nat05, nat06, nat07, nat08, nat09,  nat10, nat11]\n",
    "for i in bf12:\n",
    "    for j in i:\n",
    "        if j == 'occ_titl':\n",
    "            i.rename(columns={j:'occ_title'}, inplace=True)\n",
    "        if j == 'group':\n",
    "            i.rename(columns={j:'occ_group'}, inplace=True)\n",
    "        if j == 'o_group':\n",
    "            i.rename(columns={j:'occ_group'}, inplace=True)"
   ]
  },
  {
   "cell_type": "code",
   "execution_count": null,
   "id": "702c2965",
   "metadata": {},
   "outputs": [],
   "source": [
    "bf12 = pd.concat([nat00, nat01, nat02, nat03, nat04, nat05, nat06, nat07, nat08, nat09, nat10, nat11])\n",
    "bf12.head(50)"
   ]
  },
  {
   "cell_type": "code",
   "execution_count": null,
   "id": "3893dc69",
   "metadata": {},
   "outputs": [],
   "source": [
    "jobtrends = pd.concat([nat12, nat13, nat14, nat15, nat16, nat17, nat18, nat19, nat20, nat21], axis=0)"
   ]
  },
  {
   "cell_type": "code",
   "execution_count": null,
   "id": "1a50fee3",
   "metadata": {},
   "outputs": [],
   "source": [
    "jobtrends = jobtrends[jobtrends[\"occ_group\"].str.contains(\"minor\")==False]"
   ]
  },
  {
   "cell_type": "code",
   "execution_count": null,
   "id": "f167cb8d",
   "metadata": {},
   "outputs": [],
   "source": [
    "jobtrends = jobtrends[jobtrends[\"occ_group\"].str.contains(\"broad\")==False]"
   ]
  },
  {
   "cell_type": "markdown",
   "id": "45cd0444",
   "metadata": {},
   "source": [
    "### Concat both datasets"
   ]
  },
  {
   "cell_type": "code",
   "execution_count": null,
   "id": "7e8fbbb1",
   "metadata": {},
   "outputs": [],
   "source": [
    "jobtrends = pd.concat([bf12, jobtrends])\n",
    "jobtrends.head()"
   ]
  },
  {
   "cell_type": "markdown",
   "id": "a38d029d",
   "metadata": {},
   "source": [
    "### Build new dataset containing only \"All Occupations\" from jobtrends dataset"
   ]
  },
  {
   "cell_type": "code",
   "execution_count": null,
   "id": "55fce16a",
   "metadata": {},
   "outputs": [],
   "source": [
    "All_Occupations = jobtrends[jobtrends['occ_title'].str.contains('All Occupations')]\n",
    "All_Occupations"
   ]
  },
  {
   "cell_type": "markdown",
   "id": "f8aeaa30",
   "metadata": {},
   "source": [
    "### Drop \"All Occupations\" from \"jobtrends\" data set as to not skew the data"
   ]
  },
  {
   "cell_type": "code",
   "execution_count": null,
   "id": "c9ade5fe",
   "metadata": {},
   "outputs": [],
   "source": [
    "jobtrends = jobtrends[jobtrends[\"occ_title\"].str.contains(\"All Occupations\")==False]"
   ]
  },
  {
   "cell_type": "code",
   "execution_count": null,
   "id": "4255412e",
   "metadata": {},
   "outputs": [],
   "source": [
    "jobtrends.head(50)"
   ]
  },
  {
   "cell_type": "code",
   "execution_count": null,
   "id": "e11c5d35",
   "metadata": {
    "scrolled": true
   },
   "outputs": [],
   "source": [
    "jobtrends.head(50)"
   ]
  },
  {
   "cell_type": "code",
   "execution_count": null,
   "id": "ec814d37",
   "metadata": {},
   "outputs": [],
   "source": [
    "##jobtrends.to_excel(\"jobtrends.xlsx\")"
   ]
  },
  {
   "cell_type": "code",
   "execution_count": null,
   "id": "2c6e8121",
   "metadata": {},
   "outputs": [],
   "source": [
    "##All_Occupations.to_excel('all_occupations.xlsx')"
   ]
  },
  {
   "cell_type": "markdown",
   "id": "8cb595c8",
   "metadata": {},
   "source": [
    "### Bring in data by state"
   ]
  },
  {
   "cell_type": "code",
   "execution_count": null,
   "id": "37d5eac3",
   "metadata": {},
   "outputs": [],
   "source": [
    "state00 = pd.read_excel(r\"C:\\Users\\emmaj\\Documents\\NSS\\Capstone\\final-capstone\\data\\state_data\\oes00st\\state_2000_dl.xls\")\n",
    "state01 = pd.read_excel(r\"C:\\Users\\emmaj\\Documents\\NSS\\Capstone\\final-capstone\\data\\state_data\\oes01st\\state_2001_dl.xls\")\n",
    "state02 = pd.read_excel(r\"C:\\Users\\emmaj\\Documents\\NSS\\Capstone\\final-capstone\\data\\state_data\\oes02st\\state_2002_dl.xls\")\n",
    "state03 = pd.read_excel(r\"C:\\Users\\emmaj\\Documents\\NSS\\Capstone\\final-capstone\\data\\state_data\\oesm03st\\state_may2003_dl.xls\")\n",
    "state04 = pd.read_excel(r\"C:\\Users\\emmaj\\Documents\\NSS\\Capstone\\final-capstone\\data\\state_data\\oesm04st\\state_may2004_dl.xls\")\n",
    "state05 = pd.read_excel(r\"C:\\Users\\emmaj\\Documents\\NSS\\Capstone\\final-capstone\\data\\state_data\\oesm05st\\state_may2005_dl.xls\")\n",
    "state06 = pd.read_excel(r\"C:\\Users\\emmaj\\Documents\\NSS\\Capstone\\final-capstone\\data\\state_data\\oesm06st\\state_may2006_dl.xls\")\n",
    "state07 = pd.read_excel(r\"C:\\Users\\emmaj\\Documents\\NSS\\Capstone\\final-capstone\\data\\state_data\\oesm07st\\state_may2007_dl.xls\")\n",
    "state08 = pd.read_excel(r\"C:\\Users\\emmaj\\Documents\\NSS\\Capstone\\final-capstone\\data\\state_data\\oesm08st\\state__M2008_dl.xls\")\n",
    "state09 = pd.read_excel(r\"C:\\Users\\emmaj\\Documents\\NSS\\Capstone\\final-capstone\\data\\state_data\\oesm09st\\state_dl.xls\")\n",
    "state10 = pd.read_excel(r\"C:\\Users\\emmaj\\Documents\\NSS\\Capstone\\final-capstone\\data\\state_data\\oesm10st\\state_M2010_dl.xls\")\n",
    "state11 = pd.read_excel(r\"C:\\Users\\emmaj\\Documents\\NSS\\Capstone\\final-capstone\\data\\state_data\\oesm11st\\state_M2011_dl.xls\")\n",
    "state12 = pd.read_excel(r\"C:\\Users\\emmaj\\Documents\\NSS\\Capstone\\final-capstone\\data\\state_data\\oesm12st\\state_M2012_dl.xls\")\n",
    "state13 = pd.read_excel(r\"C:\\Users\\emmaj\\Documents\\NSS\\Capstone\\final-capstone\\data\\state_data\\oesm13st\\state_M2013_dl.xls\")\n",
    "state14 = pd.read_excel(r\"C:\\Users\\emmaj\\Documents\\NSS\\Capstone\\final-capstone\\data\\state_data\\oesm14st\\oesm14st\\state_M2014_dl.xlsx\")\n",
    "state15 = pd.read_excel(r\"C:\\Users\\emmaj\\Documents\\NSS\\Capstone\\final-capstone\\data\\state_data\\oesm15st\\oesm15st\\state_M2015_dl.xlsx\")\n",
    "state16 = pd.read_excel(r\"C:\\Users\\emmaj\\Documents\\NSS\\Capstone\\final-capstone\\data\\state_data\\oesm16st\\oesm16st\\state_M2016_dl.xlsx\")\n",
    "state17 = pd.read_excel(r\"C:\\Users\\emmaj\\Documents\\NSS\\Capstone\\final-capstone\\data\\state_data\\oesm17st\\oesm17st\\state_M2017_dl.xlsx\")\n",
    "state18 = pd.read_excel(r\"C:\\Users\\emmaj\\Documents\\NSS\\Capstone\\final-capstone\\data\\state_data\\oesm18st\\oesm18st\\state_M2018_dl.xlsx\")\n",
    "state19 = pd.read_excel(r\"C:\\Users\\emmaj\\Documents\\NSS\\Capstone\\final-capstone\\data\\state_data\\oesm19st (1)\\oesm19st\\state_M2019_dl.xlsx\")\n",
    "state20 = pd.read_excel(r\"C:\\Users\\emmaj\\Documents\\NSS\\Capstone\\final-capstone\\data\\state_data\\oesm20st\\oesm20st\\state_M2020_dl.xlsx\")\n",
    "state21 = pd.read_excel(r\"C:\\Users\\emmaj\\Documents\\NSS\\Capstone\\final-capstone\\data\\state_data\\oesm21st\\oesm21st\\state_M2021_dl.xlsx\")\n"
   ]
  },
  {
   "cell_type": "code",
   "execution_count": null,
   "id": "653c629d",
   "metadata": {},
   "outputs": [],
   "source": [
    "state00['year'] = '2000'\n",
    "state01['year'] = '2001'\n",
    "state02['year'] = '2002'\n",
    "state03['year'] = '2003'\n",
    "state04['year'] = '2004'\n",
    "state05['year'] = '2005'\n",
    "state06['year'] = '2006'\n",
    "state07['year'] = '2007'\n",
    "state08['year'] = '2008'\n",
    "state09['year'] = '2009'\n",
    "state10['year'] = '2010'\n",
    "state11['year'] = '2011'\n",
    "state12['year'] = '2012'\n",
    "state13['year'] = '2013'\n",
    "state14['year'] = '2014'\n",
    "state15['year'] = '2015'\n",
    "state16['year'] = '2016'\n",
    "state17['year'] = '2017'\n",
    "state18['year'] = '2018'\n",
    "state19['year'] = '2019'\n",
    "state20['year'] = '2020'\n",
    "state21['year'] = '2021'"
   ]
  },
  {
   "cell_type": "code",
   "execution_count": null,
   "id": "e1fed67d",
   "metadata": {},
   "outputs": [],
   "source": [
    "state00.columns = map(str.lower, state00.columns)\n",
    "state01.columns = map(str.lower, state01.columns)\n",
    "state02.columns = map(str.lower, state02.columns)\n",
    "state03.columns = map(str.lower, state03.columns)\n",
    "state04.columns = map(str.lower, state04.columns)\n",
    "state05.columns = map(str.lower, state05.columns)\n",
    "state06.columns = map(str.lower, state06.columns)\n",
    "state07.columns = map(str.lower, state07.columns)\n",
    "state08.columns = map(str.lower, state08.columns)\n",
    "state09.columns = map(str.lower, state09.columns)\n",
    "state10.columns = map(str.lower, state10.columns)\n",
    "state11.columns = map(str.lower, state11.columns)\n",
    "state12.columns = map(str.lower, state12.columns)\n",
    "state13.columns = map(str.lower, state13.columns)\n",
    "state14.columns = map(str.lower, state14.columns)\n",
    "state15.columns = map(str.lower, state15.columns)\n",
    "state16.columns = map(str.lower, state16.columns)\n",
    "state17.columns = map(str.lower, state17.columns)\n",
    "state18.columns = map(str.lower, state18.columns)\n",
    "state19.columns = map(str.lower, state19.columns)\n",
    "state20.columns = map(str.lower, state20.columns)\n",
    "state21.columns = map(str.lower, state21.columns)"
   ]
  },
  {
   "cell_type": "code",
   "execution_count": null,
   "id": "ea44848a",
   "metadata": {},
   "outputs": [],
   "source": [
    "state00 = state00[['state','occ_code', 'occ_titl', 'group', 'tot_emp', 'h_mean', 'h_median', 'a_wpct10', 'a_wpct90', 'a_median', 'year']]\n",
    "state01 = state01[['state','occ_code', 'occ_title', 'group', 'tot_emp', 'h_mean', 'h_median', 'a_wpct10', 'a_wpct90', 'a_median', 'year']]\n",
    "state02 = state02[['state','occ_code', 'occ_title', 'group', 'tot_emp', 'h_mean', 'h_median', 'a_wpct10', 'a_wpct90', 'a_median', 'year']]\n",
    "state03 = state03[['state','occ_code', 'occ_title', 'group', 'tot_emp', 'h_mean', 'h_median', 'a_pct10', 'a_pct90', 'a_median', 'year']]\n",
    "state04 = state04[['state','occ_code', 'occ_title', 'group', 'tot_emp', 'h_mean', 'h_median', 'a_pct10', 'a_pct90', 'a_median', 'year']]\n",
    "state05 = state05[['state','occ_code', 'occ_title', 'group', 'tot_emp', 'h_mean', 'h_median', 'a_pct10', 'a_pct90', 'a_median', 'year']]\n",
    "state06 =state06[['state','occ_code', 'occ_title', 'group', 'tot_emp', 'h_mean', 'h_median', 'a_pct10', 'a_pct90', 'a_median', 'year']]\n",
    "state07 = state07[['state','occ_code', 'occ_title', 'group', 'tot_emp', 'h_mean', 'h_median', 'a_pct10', 'a_pct90', 'a_median', 'year']]\n",
    "state08 = state08[['state','occ_code', 'occ_title', 'group', 'tot_emp', 'h_mean', 'h_median', 'a_pct10', 'a_pct90', 'a_median', 'year']]\n",
    "state09 = state09[['state','occ_code', 'occ_title', 'group', 'tot_emp', 'h_mean', 'h_median',  'a_pct10', 'a_pct90','a_median', 'year']]\n",
    "state10 = state10[['state','occ_code', 'occ_title', 'group', 'tot_emp', 'h_mean', 'h_median', 'a_pct10', 'a_pct90', 'a_median', 'year']]\n",
    "state11 = state11[['state','occ_code', 'occ_title', 'group', 'tot_emp', 'h_mean', 'h_median', 'a_pct10', 'a_pct90', 'a_median', 'year']]\n",
    "state12 = state12[['state','occ_code', 'occ_title', 'occ_group', 'tot_emp', 'h_mean', 'h_median', 'a_pct10', 'a_pct90', 'a_median', 'year']]\n",
    "state13 = state13[['state','occ_code', 'occ_title', 'occ_group', 'tot_emp', 'h_mean', 'h_median', 'a_pct10', 'a_pct90', 'a_median', 'year']]\n",
    "state14 = state14[['state','occ_code', 'occ_title', 'occ_group', 'tot_emp', 'h_mean', 'h_median', 'a_pct10', 'a_pct90', 'a_median', 'year']]\n",
    "state15 = state15[['state','occ_code', 'occ_title', 'occ_group', 'tot_emp', 'h_mean', 'h_median', 'a_pct10', 'a_pct90', 'a_median', 'year']]\n",
    "state16 = state16[['state','occ_code', 'occ_title', 'occ_group', 'tot_emp', 'h_mean', 'h_median', 'a_pct10', 'a_pct90', 'a_median', 'year']]\n",
    "state17 = state17[['state','occ_code', 'occ_title', 'occ_group', 'tot_emp', 'h_mean', 'h_median', 'a_pct10', 'a_pct90', 'a_median', 'year']]\n",
    "state18 = state18[['state','occ_code', 'occ_title', 'occ_group', 'tot_emp', 'h_mean', 'h_median', 'a_pct10', 'a_pct90', 'a_median', 'year']]\n",
    "state19 = state19[['area_title','occ_code', 'occ_title', 'o_group', 'tot_emp', 'h_mean', 'h_median', 'a_pct10', 'a_pct90', 'a_median', 'year']]\n",
    "state20 = state20[['area_title','occ_code', 'occ_title', 'o_group', 'tot_emp', 'h_mean', 'h_median', 'a_pct10', 'a_pct90', 'a_median', 'year']]\n",
    "state21 = state21[['area_title','occ_code', 'occ_title', 'o_group', 'tot_emp', 'h_mean', 'h_median', 'a_pct10', 'a_pct90', 'a_median', 'year']]\n",
    "\n",
    "df_list = [state00, state01, state02, state03, state04, state05, state06, state07, state08, state09, state10, state11, state12, state13, state14, state15, state16, state17, state18, state19, state20, state21] \n",
    "    \n",
    "for i in df_list:\n",
    "    for j in i:\n",
    "        if j == 'a_wpct10':\n",
    "            i.rename(columns={j:'a_pct10'}, inplace=True)\n",
    "        if j == 'group':\n",
    "            i.rename(columns={j:'occ_group'}, inplace=True)\n",
    "        if j == 'o_group':\n",
    "            i.rename(columns={j:'occ_group'}, inplace=True)\n",
    "        if j == 'a_wpct90':\n",
    "            i.rename(columns={j: 'a_pct90'}, inplace=True)"
   ]
  },
  {
   "cell_type": "code",
   "execution_count": null,
   "id": "1331dd2a",
   "metadata": {},
   "outputs": [],
   "source": [
    "state19 = state19.rename(columns={'area_title': 'state'})\n",
    "state20 = state20.rename(columns={\"area_title\": \"state\"})\n",
    "state21 = state21.rename(columns={\"area_title\": \"state\"})"
   ]
  },
  {
   "cell_type": "code",
   "execution_count": null,
   "id": "da116150",
   "metadata": {},
   "outputs": [],
   "source": [
    "jobtrends_state = pd.concat([state01, state02, state03, state04, state05, state06, state07, state08, state09, state10, state11, state12, state13, state14, state15, state16, state17, state18, state19, state20, state21], axis=0)\n",
    "jobtrends_state"
   ]
  },
  {
   "cell_type": "code",
   "execution_count": null,
   "id": "17e2099b",
   "metadata": {},
   "outputs": [],
   "source": [
    "All_Occupations_state = jobtrends_state[jobtrends_state['occ_title'].str.contains('All Occupations')]\n",
    "All_Occupations_state"
   ]
  },
  {
   "cell_type": "code",
   "execution_count": null,
   "id": "e368c126",
   "metadata": {},
   "outputs": [],
   "source": [
    "jobtrends_state = jobtrends_state[jobtrends_state[\"occ_title\"].str.contains(\"All Occupations\") == False]"
   ]
  },
  {
   "cell_type": "code",
   "execution_count": null,
   "id": "a5049b4c",
   "metadata": {},
   "outputs": [],
   "source": [
    "##jobtrends_state.to_excel(\"jobtrends_state.xlsx\")"
   ]
  },
  {
   "cell_type": "code",
   "execution_count": null,
   "id": "620cb917",
   "metadata": {},
   "outputs": [],
   "source": [
    "##All_Occupations_state.to_excel('all_occupations_state.xlsx')"
   ]
  }
 ],
 "metadata": {
  "kernelspec": {
   "display_name": "Python 3 (ipykernel)",
   "language": "python",
   "name": "python3"
  },
  "language_info": {
   "codemirror_mode": {
    "name": "ipython",
    "version": 3
   },
   "file_extension": ".py",
   "mimetype": "text/x-python",
   "name": "python",
   "nbconvert_exporter": "python",
   "pygments_lexer": "ipython3",
   "version": "3.9.7"
  }
 },
 "nbformat": 4,
 "nbformat_minor": 5
}
